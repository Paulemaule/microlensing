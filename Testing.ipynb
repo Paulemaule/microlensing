{
 "cells": [
  {
   "cell_type": "code",
   "execution_count": 1,
   "metadata": {},
   "outputs": [],
   "source": [
    "import numpy as np\n",
    "import matplotlib.pyplot as plt\n",
    "\n",
    "import os\n",
    "import h5py"
   ]
  },
  {
   "cell_type": "code",
   "execution_count": 2,
   "metadata": {},
   "outputs": [],
   "source": [
    "runs_path = 'H:/Bachelorarbeit/Daten/runs/'\n",
    "run_path = runs_path + 'run_1/'\n",
    "\n",
    "step = 0\n",
    "\n",
    "t = None\n",
    "n = None\n",
    "x = None\n",
    "m = None\n",
    "\n",
    "with h5py.File(run_path + 'snap.40_0.h5part') as f:\n",
    "    t = f[f'Step#{step}']['000 Scalars'][0]\n",
    "    n = np.array(f[f'Step#{step}']['032 Name'])\n",
    "    x = np.array([f[f'Step#{step}']['001 X1'],f[f'Step#{step}']['002 X2'],f[f'Step#{step}']['003 X3']])\n",
    "    m = np.array(f[f'Step#{step}']['023 M'])\n",
    "    \n",
    "    sort = np.argsort(n)\n",
    "    n = n[sort]\n",
    "    x = x[:,sort]\n",
    "    m = m[sort]"
   ]
  },
  {
   "cell_type": "code",
   "execution_count": 3,
   "metadata": {},
   "outputs": [
    {
     "data": {
      "text/plain": [
       "0.0"
      ]
     },
     "execution_count": 3,
     "metadata": {},
     "output_type": "execute_result"
    }
   ],
   "source": [
    "t"
   ]
  },
  {
   "cell_type": "code",
   "execution_count": 4,
   "metadata": {},
   "outputs": [
    {
     "data": {
      "text/plain": [
       "array([[-1.0394984 ,  0.10466827, -0.47429675, ...,  0.85144603,\n",
       "         0.4481643 ,  0.40752685],\n",
       "       [ 0.06614428,  0.21782914,  0.6766065 , ..., -0.30451003,\n",
       "        -1.01831   , -0.09130095],\n",
       "       [-1.4204446 ,  0.6656573 , -0.08754513, ...,  0.02404865,\n",
       "        -1.1645766 ,  0.33585382]], dtype=float32)"
      ]
     },
     "execution_count": 4,
     "metadata": {},
     "output_type": "execute_result"
    }
   ],
   "source": [
    "x"
   ]
  },
  {
   "cell_type": "code",
   "execution_count": 5,
   "metadata": {},
   "outputs": [
    {
     "data": {
      "text/plain": [
       "(-50, 50)"
      ]
     },
     "execution_count": 5,
     "metadata": {},
     "output_type": "execute_result"
    },
    {
     "data": {
      "image/png": "[encoded data removed]",
      "text/plain": [
       "<Figure size 720x720 with 1 Axes>"
      ]
     },
     "metadata": {
      "needs_background": "light"
     },
     "output_type": "display_data"
    }
   ],
   "source": [
    "plt.figure(figsize=(10,10))\n",
    "plt.scatter(*x[[0,1],:])\n",
    "lim = 50\n",
    "plt.xlim(-lim,lim)\n",
    "plt.ylim(-lim,lim)"
   ]
  },
  {
   "cell_type": "code",
   "execution_count": 6,
   "metadata": {},
   "outputs": [],
   "source": [
    "axes = [0,1]"
   ]
  },
  {
   "cell_type": "code",
   "execution_count": 7,
   "metadata": {},
   "outputs": [],
   "source": [
    "def find_closest_naive():\n",
    "    diff = x[axes,np.newaxis,:10000] - x[axes,10000:,np.newaxis]\n",
    "    sort = np.argsort(diff, axis = 1)\n",
    "    \n",
    "    return sort[:,:,0]"
   ]
  },
  {
   "cell_type": "code",
   "execution_count": 8,
   "metadata": {},
   "outputs": [
    {
     "data": {
      "text/plain": [
       "array([[1217, 6715, 2202, ..., 2381, 1523,   65],\n",
       "       [  65, 8834, 1523, ..., 4036, 1994, 4967]], dtype=int64)"
      ]
     },
     "execution_count": 8,
     "metadata": {},
     "output_type": "execute_result"
    }
   ],
   "source": [
    "find_closest_naive()"
   ]
  },
  {
   "cell_type": "code",
   "execution_count": 9,
   "metadata": {},
   "outputs": [
    {
     "name": "stdout",
     "output_type": "stream",
     "text": [
      "12.9 s ± 49.6 ms per loop (mean ± std. dev. of 7 runs, 1 loop each)\n"
     ]
    }
   ],
   "source": [
    "%timeit find_closest_naive()"
   ]
  },
  {
   "cell_type": "code",
   "execution_count": 10,
   "metadata": {},
   "outputs": [],
   "source": [
    "def find_closest_digitize():\n",
    "    ffp = m < 1e-3\n",
    "    stars = m > 1e-3\n",
    "\n",
    "    bins1, bins2 = np.linspace(min(x[axes[0]]), max(x[axes[0]]), 300), np.linspace(min(x[axes[1]]), max(x[axes[1]]), 300)\n",
    "    i_stars, j_stars = np.digitize(x[axes[0]][stars], bins1), np.digitize(x[axes[1]][stars], bins2)\n",
    "    \n",
    "    events = []\n",
    "    \n",
    "    for ffp_num in np.arange(len(m))[ffp]:\n",
    "        i_ffp, j_ffp = np.digitize(x[axes[0]][ffp_num], bins1), np.digitize(x[axes[1]][ffp_num], bins2)\n",
    "        \n",
    "        vicinity = [-1,0,1]\n",
    "        neighbours = np.logical_and(np.isin(i_stars, i_ffp + vicinity), np.isin(j_stars, j_ffp + vicinity))\n",
    "        \n",
    "        distances = np.linalg.norm(x[axes][:,stars][:,neighbours] - x[axes,ffp_num][:,np.newaxis], axis = 0)\n",
    "        lensed = distances < 0.05\n",
    "        \n",
    "        for i in np.arange(len(m))[stars][neighbours][lensed]:\n",
    "            events.append(i)\n",
    "    \n",
    "    return np.array(events)"
   ]
  },
  {
   "cell_type": "code",
   "execution_count": 11,
   "metadata": {},
   "outputs": [
    {
     "data": {
      "text/plain": [
       "array([ 327, 4793, 4892, ..., 2733, 3030, 7006])"
      ]
     },
     "execution_count": 11,
     "metadata": {},
     "output_type": "execute_result"
    }
   ],
   "source": [
    "find_closest_digitize()"
   ]
  },
  {
   "cell_type": "code",
   "execution_count": 12,
   "metadata": {},
   "outputs": [
    {
     "name": "stdout",
     "output_type": "stream",
     "text": [
      "3.83 s ± 191 ms per loop (mean ± std. dev. of 7 runs, 1 loop each)\n"
     ]
    }
   ],
   "source": [
    "%timeit find_closest_digitize()"
   ]
  },
  {
   "cell_type": "code",
   "execution_count": 20,
   "metadata": {},
   "outputs": [],
   "source": [
    "from scipy.spatial import KDTree\n",
    "\n",
    "def find_closest_kdtree():\n",
    "    tree = KDTree(x[axes,:10000].T, leafsize=50)\n",
    "    \n",
    "    neighbours = tree.query_ball_point(x[axes,10000:].T, 0.05)\n",
    "    \n",
    "    return neighbours"
   ]
  },
  {
   "cell_type": "code",
   "execution_count": 14,
   "metadata": {},
   "outputs": [
    {
     "data": {
      "text/plain": [
       "array([list([291]), list([]), list([1056, 842, 6588, 6672]), ...,\n",
       "       list([7966, 7772, 3249, 2042, 2521, 5749, 2187]),\n",
       "       list([2251, 2725, 4417, 1024, 9889]),\n",
       "       list([9082, 8891, 4327, 5650, 9360, 6690, 2903, 8567, 9018, 9821, 8205, 3469, 3910, 661, 1717, 4025, 1852, 3030, 7006, 3065, 3545, 4966, 9656, 650, 9995, 9202, 9539, 3832, 6341, 8575])],\n",
       "      dtype=object)"
      ]
     },
     "execution_count": 14,
     "metadata": {},
     "output_type": "execute_result"
    }
   ],
   "source": [
    "find_closest_kdtree()"
   ]
  },
  {
   "cell_type": "code",
   "execution_count": 15,
   "metadata": {},
   "outputs": [
    {
     "name": "stdout",
     "output_type": "stream",
     "text": [
      "19.1 s ± 323 ms per loop (mean ± std. dev. of 7 runs, 1 loop each)\n"
     ]
    }
   ],
   "source": [
    "%timeit find_closest_kdtree()"
   ]
  },
  {
   "cell_type": "code",
   "execution_count": 21,
   "metadata": {},
   "outputs": [
    {
     "name": "stdout",
     "output_type": "stream",
     "text": [
      "9.32 s ± 57.2 ms per loop (mean ± std. dev. of 7 runs, 1 loop each)\n"
     ]
    }
   ],
   "source": [
    "%timeit find_closest_kdtree()"
   ]
  },
  {
   "cell_type": "code",
   "execution_count": null,
   "metadata": {},
   "outputs": [],
   "source": []
  }
 ],
 "metadata": {
  "kernelspec": {
   "display_name": "Python 3",
   "language": "python",
   "name": "python3"
  },
  "language_info": {
   "codemirror_mode": {
    "name": "ipython",
    "version": 3
   },
   "file_extension": ".py",
   "mimetype": "text/x-python",
   "name": "python",
   "nbconvert_exporter": "python",
   "pygments_lexer": "ipython3",
   "version": "3.7.3"
  }
 },
 "nbformat": 4,
 "nbformat_minor": 2
}
